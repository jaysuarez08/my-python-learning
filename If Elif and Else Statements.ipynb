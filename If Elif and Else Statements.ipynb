{
 "cells": [
  {
   "cell_type": "markdown",
   "id": "e1b06b0c",
   "metadata": {},
   "source": [
    "Control flow basically allows us to use logic to execute code only when we want to, often you have a larger piece of code and you only want certain code to be executed when a particular condition has been met. \n",
    "\n",
    "Let's imagine that I'm trying to program a robot to feed my dogs. Then I could say \"If\" my dog is hungry. (so that's the condtion, my dog is hungry.) Then I'll have the robot feed the dog, it'll have the actual code or perform som action.\n",
    "\n",
    "if\n",
    "elif\n",
    "else\n",
    "\n",
    "Control flow syntax makes use of colons and indentation (known as whitespace)\n",
    "\n",
    "\n",
    "Syntax of an id statement\n",
    "if some_condition:\n",
    "    execute some code\n",
    "    (so some condition is usually some sort of comparision operation that we  just saw in the previous section, so that could be if hungry is equal to true colon and then notice that the second line is indented further out then the if. So that says anything along that indentation is going to be executed if that condition happens to be true.)\n",
    "    \n",
    "else:\n",
    "    do something else\n",
    "     (on top of the if statement you can add an else statement. So let's say that condition doesn't happen to be true. We can have another block of code execute. So in this logic we say if some condition happens to be true, we execute some code. Else meaning that condition didn't have to be true. We do something else and notice how the else doesn't have a condition attached to it. It only actually executes if the condition is above didn't happen to be true. you should also notice that the if and else indentation wise is aligned up with each other. \n",
    "     \n",
    "If you want to check for multiple conditions before that else statment executes, you can have a ELIF statement.\n",
    "\n",
    "if some_condition:\n",
    "    execute some code\n",
    "elif some_other_condition:\n",
    "    do something different\n",
    "else:\n",
    "    do something else\n",
    "    (basically you say if some condition that executes some code if some other condition do something different and you can have as many of thee ifs as you want.)\n",
    "    \n",
    "    "
   ]
  },
  {
   "cell_type": "code",
   "execution_count": 1,
   "id": "cc064f2e",
   "metadata": {},
   "outputs": [
    {
     "name": "stdout",
     "output_type": "stream",
     "text": [
      "ITS TRUE\n"
     ]
    }
   ],
   "source": [
    "if True:\n",
    "    print('ITS TRUE')"
   ]
  },
  {
   "cell_type": "code",
   "execution_count": 3,
   "id": "e7219a2c",
   "metadata": {},
   "outputs": [
    {
     "name": "stdout",
     "output_type": "stream",
     "text": [
      "ITS TRUE!\n"
     ]
    }
   ],
   "source": [
    "if 3 > 2:\n",
    "    print('ITS TRUE!')"
   ]
  },
  {
   "cell_type": "code",
   "execution_count": 4,
   "id": "726ad6ab",
   "metadata": {},
   "outputs": [
    {
     "name": "stdout",
     "output_type": "stream",
     "text": [
      "FEED ME!\n"
     ]
    }
   ],
   "source": [
    "hungry = True\n",
    "\n",
    "if hungry:\n",
    "    print('FEED ME!')"
   ]
  },
  {
   "cell_type": "code",
   "execution_count": 5,
   "id": "86dc0fd1",
   "metadata": {},
   "outputs": [],
   "source": [
    "hungry = False\n",
    "\n",
    "if hungry:\n",
    "    print('FEED ME!')"
   ]
  },
  {
   "cell_type": "markdown",
   "id": "808420d9",
   "metadata": {},
   "source": [
    "Notice it didn't return, because this code is false the line of code \"FEED ME!\" did not execute."
   ]
  },
  {
   "cell_type": "code",
   "execution_count": 6,
   "id": "928c2b56",
   "metadata": {},
   "outputs": [
    {
     "name": "stdout",
     "output_type": "stream",
     "text": [
      "Im not hungry\n"
     ]
    }
   ],
   "source": [
    "hungry = False\n",
    "\n",
    "if hungry:\n",
    "    print('FEED ME!')\n",
    "else:\n",
    "    print('Im not hungry')"
   ]
  },
  {
   "cell_type": "markdown",
   "id": "93eb3537",
   "metadata": {},
   "source": [
    "If we change False to True then it will return \"FEED ME!\""
   ]
  },
  {
   "cell_type": "code",
   "execution_count": 11,
   "id": "29d04cd6",
   "metadata": {},
   "outputs": [
    {
     "name": "stdout",
     "output_type": "stream",
     "text": [
      "I do not know much\n"
     ]
    }
   ],
   "source": [
    "loc = 'Monkey'\n",
    "\n",
    "if loc == 'Auto Shop':\n",
    "    print('Cars are cool!')\n",
    "elif loc == 'Bank':\n",
    "    print('Money is cool')\n",
    "elif loc == 'Store':\n",
    "    print('Welcome to the Store!')\n",
    "else:\n",
    "    print('I do not know much')\n",
    "        "
   ]
  },
  {
   "cell_type": "markdown",
   "id": "eeaef754",
   "metadata": {},
   "source": [
    "if you the location (loc) to Auto Shop it will print \"Car's are cool!\" and so on. If you change it to something that is not saved as a loc then it will return the else statement."
   ]
  },
  {
   "cell_type": "code",
   "execution_count": 13,
   "id": "c3c9184a",
   "metadata": {},
   "outputs": [
    {
     "name": "stdout",
     "output_type": "stream",
     "text": [
      "Hello Sammy\n"
     ]
    }
   ],
   "source": [
    "name = 'Sammy'\n",
    "\n",
    "if name == 'Frankie':\n",
    "    print(\"Hello Frankie\")\n",
    "elif name == 'Sammy':\n",
    "    print('Hello Sammy')\n",
    "else:\n",
    "    print('What is your name?')"
   ]
  },
  {
   "cell_type": "code",
   "execution_count": null,
   "id": "7198185b",
   "metadata": {},
   "outputs": [],
   "source": []
  }
 ],
 "metadata": {
  "kernelspec": {
   "display_name": "Python 3 (ipykernel)",
   "language": "python",
   "name": "python3"
  },
  "language_info": {
   "codemirror_mode": {
    "name": "ipython",
    "version": 3
   },
   "file_extension": ".py",
   "mimetype": "text/x-python",
   "name": "python",
   "nbconvert_exporter": "python",
   "pygments_lexer": "ipython3",
   "version": "3.9.12"
  }
 },
 "nbformat": 4,
 "nbformat_minor": 5
}
