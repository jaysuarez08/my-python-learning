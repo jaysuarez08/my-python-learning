{
 "cells": [
  {
   "cell_type": "markdown",
   "id": "4b9f6486",
   "metadata": {},
   "source": [
    "Many objects in Python are \"iterable\" meaning we can iterate over every element in the object. Such as every element in a list or every character in a string.\n",
    "\n",
    "We can use for loops to exectue a block of code for every iteration.\n",
    "\n",
    "The term iterable means you can \"iterate\" over the object. (Performs an action for everything in an object)\n",
    "\n",
    "For example you can iterate over every character in a string, iterate over every item in a list, iterate over every key in a dictionary.\n",
    "\n",
    "syntax of a for loop\n",
    "\n",
    "my_iterable = [1,2,3]\n",
    "for item_name in my_iterable:\n",
    "    print(item_name)\n",
    "    \n",
    "(\">>\")1\n",
    "\n",
    "(\">>\")2\n",
    "\n",
    "(\">>\")3\n",
    "\n",
    "my_iterable = variable name is a list [1,2,3]\n",
    "item_name is a variable name that you can choose to be a bit of a placeholder for every single item in your iterable object. In this example the item_name represents the number in that list. Then we say \"in\" another key word, and then the variable name that you chose in this case my_iterable.\n",
    "\n",
    "So, we are saying for every item or item name in this list if 1 to 3, then we have a colon and then we have some whitespace, and then we perform our execute of some block of code. In this case we are saying print item name, but you didn't actually use the item name."
   ]
  },
  {
   "cell_type": "code",
   "execution_count": 2,
   "id": "bdc33d81",
   "metadata": {},
   "outputs": [],
   "source": [
    "my_list = [1,2,3,4,5,6,7,8,9,10]\n"
   ]
  },
  {
   "cell_type": "code",
   "execution_count": 3,
   "id": "ce1bb470",
   "metadata": {},
   "outputs": [
    {
     "name": "stdout",
     "output_type": "stream",
     "text": [
      "1\n",
      "2\n",
      "3\n",
      "4\n",
      "5\n",
      "6\n",
      "7\n",
      "8\n",
      "9\n",
      "10\n"
     ]
    }
   ],
   "source": [
    "for num in my_list:\n",
    "    print(num)"
   ]
  },
  {
   "cell_type": "markdown",
   "id": "4054aedf",
   "metadata": {},
   "source": [
    "num is a variable that you chose, remember it could be anything you want. If we wanted to change it jelly and run it that way, it will give you the same result."
   ]
  },
  {
   "cell_type": "markdown",
   "id": "2a947703",
   "metadata": {},
   "source": [
    "You can also print whatever you want instead of printing num you can print \"hello\" and it will print \"hello\" ten times."
   ]
  },
  {
   "cell_type": "markdown",
   "id": "6e5c0f10",
   "metadata": {},
   "source": [
    "we will now print out only the even numbers in my_list"
   ]
  },
  {
   "cell_type": "code",
   "execution_count": 7,
   "id": "d17dfd59",
   "metadata": {},
   "outputs": [
    {
     "name": "stdout",
     "output_type": "stream",
     "text": [
      "Odd Number: 1\n",
      "2\n",
      "Odd Number: 3\n",
      "4\n",
      "Odd Number: 5\n",
      "6\n",
      "Odd Number: 7\n",
      "8\n",
      "Odd Number: 9\n",
      "10\n"
     ]
    }
   ],
   "source": [
    "for num in my_list:\n",
    "    # Check for even numbers\n",
    "    if num % 2 == 0:\n",
    "        print(num)\n",
    "        # Remember that % is to see the remainders if it is equal to 0 it will give you even numbers divisible by 2\n",
    "    else:\n",
    "        print(f'Odd Number: {num}')"
   ]
  },
  {
   "cell_type": "code",
   "execution_count": 11,
   "id": "a6c32ce7",
   "metadata": {},
   "outputs": [
    {
     "name": "stdout",
     "output_type": "stream",
     "text": [
      "1\n",
      "3\n",
      "6\n",
      "10\n",
      "15\n",
      "21\n",
      "28\n",
      "36\n",
      "45\n",
      "55\n"
     ]
    }
   ],
   "source": [
    "list_sum = 0\n",
    "\n",
    "for num in my_list:\n",
    "    list_sum = list_sum + num\n",
    "    \n",
    "    print(list_sum)   \n",
    "\n",
    "# This grabbed all the numbers in the list and added them to themselves, giving the some of 55. Putting the 'Print'\n",
    "# statement inside the for loop give you a running tally as shown below. With the print statement outside the for\n",
    "# loop it will give you the sum of 55 only\n",
    "    "
   ]
  },
  {
   "cell_type": "code",
   "execution_count": 16,
   "id": "2ac53edf",
   "metadata": {},
   "outputs": [
    {
     "name": "stdout",
     "output_type": "stream",
     "text": [
      "H\n",
      "e\n",
      "l\n",
      "l\n",
      "o\n",
      " \n",
      "W\n",
      "o\n",
      "r\n",
      "l\n",
      "d\n"
     ]
    }
   ],
   "source": [
    "mystring = 'Hello World'\n",
    "\n",
    "for letter in mystring:\n",
    "    print(letter)"
   ]
  },
  {
   "cell_type": "code",
   "execution_count": 17,
   "id": "56f5df78",
   "metadata": {},
   "outputs": [
    {
     "name": "stdout",
     "output_type": "stream",
     "text": [
      "1\n",
      "2\n",
      "3\n"
     ]
    }
   ],
   "source": [
    "tup = (1,2,3)\n",
    "\n",
    "for item in tup:\n",
    "    print(item)"
   ]
  },
  {
   "cell_type": "markdown",
   "id": "95026175",
   "metadata": {},
   "source": [
    "Tuple and packing, tuples have a little bit of special quality when it comes to for loops. So, if you are iterating through a sequence that contains itself tuples, the item can be used with tuple unpacking\n"
   ]
  },
  {
   "cell_type": "code",
   "execution_count": 18,
   "id": "e9ac44f0",
   "metadata": {},
   "outputs": [],
   "source": [
    "mylist = [(1,2),(3,4),(5,6),(7,8)] # a list of tuple pairs as items in that list"
   ]
  },
  {
   "cell_type": "code",
   "execution_count": 19,
   "id": "657adf71",
   "metadata": {},
   "outputs": [
    {
     "data": {
      "text/plain": [
       "4"
      ]
     },
     "execution_count": 19,
     "metadata": {},
     "output_type": "execute_result"
    }
   ],
   "source": [
    "len(mylist) # there are 4 items in the list"
   ]
  },
  {
   "cell_type": "code",
   "execution_count": 20,
   "id": "803366ab",
   "metadata": {},
   "outputs": [
    {
     "name": "stdout",
     "output_type": "stream",
     "text": [
      "(1, 2)\n",
      "(3, 4)\n",
      "(5, 6)\n",
      "(7, 8)\n"
     ]
    }
   ],
   "source": [
    "for item in mylist:\n",
    "    print(item) # will list out the tuples within the list"
   ]
  },
  {
   "cell_type": "code",
   "execution_count": 22,
   "id": "a735b8ec",
   "metadata": {},
   "outputs": [
    {
     "name": "stdout",
     "output_type": "stream",
     "text": [
      "1\n",
      "2\n",
      "3\n",
      "4\n",
      "5\n",
      "6\n",
      "7\n",
      "8\n"
     ]
    }
   ],
   "source": [
    "for (a,b) in mylist: b\n",
    "    print(a) # will print the first number of every tuple\n",
    "    print(b) # will print the 2nd number in the tuple"
   ]
  },
  {
   "cell_type": "code",
   "execution_count": 29,
   "id": "74550aaa",
   "metadata": {},
   "outputs": [
    {
     "name": "stdout",
     "output_type": "stream",
     "text": [
      "1\n",
      "2\n",
      "3\n",
      "1 2 3\n",
      "5\n",
      "6\n",
      "7\n",
      "5 6 7\n",
      "8\n",
      "9\n",
      "10\n",
      "8 9 10\n"
     ]
    }
   ],
   "source": [
    "mylist = [(1,2,3), (5,6,7), (8,9,10)]\n",
    "\n",
    "for a,b,c in mylist:\n",
    "    print(a)\n",
    "    print(b)\n",
    "    print(c)\n",
    "    print(a,b,c)"
   ]
  },
  {
   "cell_type": "code",
   "execution_count": 30,
   "id": "3f2440cd",
   "metadata": {},
   "outputs": [],
   "source": [
    "# How to iterate through a dictionary"
   ]
  },
  {
   "cell_type": "code",
   "execution_count": 32,
   "id": "b2788221",
   "metadata": {},
   "outputs": [
    {
     "name": "stdout",
     "output_type": "stream",
     "text": [
      "k1\n",
      "k2\n",
      "k3\n"
     ]
    }
   ],
   "source": [
    "d = {'k1':1, 'k2':2, 'k3':3}\n",
    "\n",
    "for item in d:\n",
    "    print(item)"
   ]
  },
  {
   "cell_type": "code",
   "execution_count": 33,
   "id": "99c9b896",
   "metadata": {},
   "outputs": [
    {
     "name": "stdout",
     "output_type": "stream",
     "text": [
      "('k1', 1)\n",
      "('k2', 2)\n",
      "('k3', 3)\n"
     ]
    }
   ],
   "source": [
    "for item in d.items():\n",
    "    print(item)"
   ]
  },
  {
   "cell_type": "code",
   "execution_count": 34,
   "id": "62358db5",
   "metadata": {},
   "outputs": [
    {
     "name": "stdout",
     "output_type": "stream",
     "text": [
      "1\n",
      "2\n",
      "3\n"
     ]
    }
   ],
   "source": [
    "for key,value in d.items():\n",
    "    print(value)"
   ]
  },
  {
   "cell_type": "code",
   "execution_count": 35,
   "id": "9094fe5b",
   "metadata": {},
   "outputs": [
    {
     "name": "stdout",
     "output_type": "stream",
     "text": [
      "1\n",
      "2\n",
      "3\n"
     ]
    }
   ],
   "source": [
    "for value in d.values():\n",
    "    print(value)"
   ]
  }
 ],
 "metadata": {
  "kernelspec": {
   "display_name": "Python 3 (ipykernel)",
   "language": "python",
   "name": "python3"
  },
  "language_info": {
   "codemirror_mode": {
    "name": "ipython",
    "version": 3
   },
   "file_extension": ".py",
   "mimetype": "text/x-python",
   "name": "python",
   "nbconvert_exporter": "python",
   "pygments_lexer": "ipython3",
   "version": "3.9.12"
  }
 },
 "nbformat": 4,
 "nbformat_minor": 5
}
