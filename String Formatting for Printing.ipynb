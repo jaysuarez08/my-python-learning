{
 "cells": [
  {
   "cell_type": "markdown",
   "id": "f3f582f7",
   "metadata": {},
   "source": [
    "Formatting with the .format() method\n",
    "\n",
    "A good way to format objects into your strings for the print statements is with the string .format()\n",
    "method. The syntax is:\n",
    "\n",
    "'String here {} then also {}'.format('something1','something2')"
   ]
  },
  {
   "cell_type": "code",
   "execution_count": 1,
   "id": "a8ce9dd8",
   "metadata": {},
   "outputs": [
    {
     "name": "stdout",
     "output_type": "stream",
     "text": [
      "This is a string INSERTED\n"
     ]
    }
   ],
   "source": [
    "print('This is a string {}'.format('INSERTED'))"
   ]
  },
  {
   "cell_type": "code",
   "execution_count": 6,
   "id": "9db44b16",
   "metadata": {},
   "outputs": [
    {
     "name": "stdout",
     "output_type": "stream",
     "text": [
      "My name is Leslie I have a daughter, her name is Aria\n"
     ]
    }
   ],
   "source": [
    "print('My name is Leslie {}'.format('I have a daughter, her name is Aria'))"
   ]
  },
  {
   "cell_type": "markdown",
   "id": "4a53f31f",
   "metadata": {},
   "source": [
    "print('Python {}'.format('I ENJOY!'))"
   ]
  },
  {
   "cell_type": "code",
   "execution_count": 9,
   "id": "ef5bd99b",
   "metadata": {},
   "outputs": [
    {
     "name": "stdout",
     "output_type": "stream",
     "text": [
      "The fox brown quick\n"
     ]
    }
   ],
   "source": [
    "print('The {} {} {}'.format('fox', 'brown', 'quick'))"
   ]
  },
  {
   "cell_type": "markdown",
   "id": "ce266814",
   "metadata": {},
   "source": [
    "It would be nice if it made gramatical sense, we can use indexing"
   ]
  },
  {
   "cell_type": "code",
   "execution_count": 10,
   "id": "3e88f23b",
   "metadata": {},
   "outputs": [
    {
     "name": "stdout",
     "output_type": "stream",
     "text": [
      "The quick brown fox\n"
     ]
    }
   ],
   "source": [
    "print('The {2} {1} {0}'.format('fox', 'brown','quick'))"
   ]
  },
  {
   "cell_type": "code",
   "execution_count": 12,
   "id": "352398da",
   "metadata": {},
   "outputs": [
    {
     "name": "stdout",
     "output_type": "stream",
     "text": [
      "The quick brown fox\n"
     ]
    }
   ],
   "source": [
    "print('The {q} {b} {f}'.format(f='fox', b='brown', q='quick'))"
   ]
  },
  {
   "cell_type": "markdown",
   "id": "162251ec",
   "metadata": {},
   "source": [
    "Float formatting follow \"{value:width.precision f}\""
   ]
  },
  {
   "cell_type": "code",
   "execution_count": 13,
   "id": "e0a5274c",
   "metadata": {},
   "outputs": [],
   "source": [
    "result = 100/777"
   ]
  },
  {
   "cell_type": "code",
   "execution_count": 14,
   "id": "34f79a55",
   "metadata": {},
   "outputs": [
    {
     "data": {
      "text/plain": [
       "0.1287001287001287"
      ]
     },
     "execution_count": 14,
     "metadata": {},
     "output_type": "execute_result"
    }
   ],
   "source": [
    "result"
   ]
  },
  {
   "cell_type": "code",
   "execution_count": 15,
   "id": "c9ec13cf",
   "metadata": {},
   "outputs": [
    {
     "name": "stdout",
     "output_type": "stream",
     "text": [
      "The result was 0.1287001287001287\n"
     ]
    }
   ],
   "source": [
    "print(\"The result was {}\".format(result))"
   ]
  },
  {
   "cell_type": "code",
   "execution_count": 17,
   "id": "485d6c12",
   "metadata": {},
   "outputs": [
    {
     "name": "stdout",
     "output_type": "stream",
     "text": [
      "The result was 0.1287001287001287\n"
     ]
    }
   ],
   "source": [
    "print('The result was {r}'.format(r = result))"
   ]
  },
  {
   "cell_type": "code",
   "execution_count": 18,
   "id": "b17ea125",
   "metadata": {},
   "outputs": [
    {
     "name": "stdout",
     "output_type": "stream",
     "text": [
      "The result was 0.129\n"
     ]
    }
   ],
   "source": [
    "print('The result was {r:1.3f}'.format(r = result))"
   ]
  },
  {
   "cell_type": "markdown",
   "id": "6998b384",
   "metadata": {},
   "source": [
    "r = value\n",
    "1 = width (to add spaces)\n",
    "3 = precision"
   ]
  },
  {
   "cell_type": "code",
   "execution_count": 22,
   "id": "4759bb0d",
   "metadata": {},
   "outputs": [
    {
     "name": "stdout",
     "output_type": "stream",
     "text": [
      "The result was 0.12870\n"
     ]
    }
   ],
   "source": [
    "print('The result was {r:1.5f}'.format(r = result))"
   ]
  },
  {
   "cell_type": "markdown",
   "id": "cac6e782",
   "metadata": {},
   "source": [
    "F Srtings"
   ]
  },
  {
   "cell_type": "code",
   "execution_count": 23,
   "id": "2410512f",
   "metadata": {},
   "outputs": [],
   "source": [
    "name = 'Jose'"
   ]
  },
  {
   "cell_type": "code",
   "execution_count": 25,
   "id": "75299e85",
   "metadata": {},
   "outputs": [
    {
     "name": "stdout",
     "output_type": "stream",
     "text": [
      "Hello, his name is Jose\n"
     ]
    }
   ],
   "source": [
    "print(f'Hello, his name is {name}')"
   ]
  },
  {
   "cell_type": "code",
   "execution_count": 27,
   "id": "3564245b",
   "metadata": {},
   "outputs": [],
   "source": [
    "name = 'Sam'\n",
    "age = 3"
   ]
  },
  {
   "cell_type": "code",
   "execution_count": 29,
   "id": "2dfdfe48",
   "metadata": {},
   "outputs": [
    {
     "name": "stdout",
     "output_type": "stream",
     "text": [
      "Sam is 3 years old.\n"
     ]
    }
   ],
   "source": [
    "print(f'{name} is {age} years old.')"
   ]
  },
  {
   "cell_type": "code",
   "execution_count": 32,
   "id": "1a3d77ce",
   "metadata": {},
   "outputs": [],
   "source": [
    "name = \"Aria\"\n",
    "age = 3\n",
    "grade = \"Kindergarden\""
   ]
  },
  {
   "cell_type": "code",
   "execution_count": 34,
   "id": "a575b859",
   "metadata": {},
   "outputs": [
    {
     "name": "stdout",
     "output_type": "stream",
     "text": [
      "Aria is 3 years old, she is in Kindergarden.\n"
     ]
    }
   ],
   "source": [
    "print(f'{name} is {age} years old, she is in {grade}.')"
   ]
  },
  {
   "cell_type": "code",
   "execution_count": 35,
   "id": "2657dd03",
   "metadata": {},
   "outputs": [],
   "source": [
    "name = \"Thalia\"\n",
    "years = 7"
   ]
  },
  {
   "cell_type": "code",
   "execution_count": 38,
   "id": "69a04a5d",
   "metadata": {},
   "outputs": [
    {
     "name": "stdout",
     "output_type": "stream",
     "text": [
      "My wife's name is Thalia, we have been married for 7 yrs.\n"
     ]
    }
   ],
   "source": [
    "print(f\"My wife's name is {name}, we have been married for {years} yrs.\")"
   ]
  },
  {
   "cell_type": "code",
   "execution_count": null,
   "id": "1dfd8952",
   "metadata": {},
   "outputs": [],
   "source": []
  }
 ],
 "metadata": {
  "kernelspec": {
   "display_name": "Python 3 (ipykernel)",
   "language": "python",
   "name": "python3"
  },
  "language_info": {
   "codemirror_mode": {
    "name": "ipython",
    "version": 3
   },
   "file_extension": ".py",
   "mimetype": "text/x-python",
   "name": "python",
   "nbconvert_exporter": "python",
   "pygments_lexer": "ipython3",
   "version": "3.9.12"
  }
 },
 "nbformat": 4,
 "nbformat_minor": 5
}
