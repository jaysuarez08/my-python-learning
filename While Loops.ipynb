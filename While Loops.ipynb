{
 "cells": [
  {
   "cell_type": "markdown",
   "id": "ab9d1bb2",
   "metadata": {},
   "source": [
    "While loops will continue to execture a block of code while some condition remains true. For example, while my pool is not full, keep filling my pool with water. \n",
    "\n",
    "Or while my dogs are still hungry, keep feeding my dogs.\n",
    "\n",
    "Syntax of a while loop\n",
    "\n",
    "while some_boolean_condition:\n",
    "    do something\n",
    "else:\n",
    "    do something else\n",
    "    \n"
   ]
  },
  {
   "cell_type": "code",
   "execution_count": 6,
   "id": "1bac93a5",
   "metadata": {},
   "outputs": [
    {
     "name": "stdout",
     "output_type": "stream",
     "text": [
      "The current of x is 0\n",
      "The current of x is 1\n",
      "The current of x is 2\n",
      "The current of x is 3\n",
      "The current of x is 4\n",
      "X IS NOT LESS THAN 5\n"
     ]
    }
   ],
   "source": [
    "x = 0\n",
    "\n",
    "while x < 5:\n",
    "    print(f'The current of x is {x}')\n",
    "    x = x + 1 # this can also be written x += 1\n",
    "else:\n",
    "    print('X IS NOT LESS THAN 5')\n",
    "    \n",
    "# When x is equal to 4, we then say, okay, x is going to be equal to 4 + 1. Which makes x equal to five and five is\n",
    "# not less than 5, it's equal to it. So, then the while loop stops running while this condition is true\n",
    "\n",
    "# if there was no condition to stop the loop it will continue indefinetely"
   ]
  },
  {
   "cell_type": "markdown",
   "id": "8f200f99",
   "metadata": {},
   "source": [
    "break, continue, pass\n",
    "\n",
    "We can use break, continue, and pass statements in our loops to add additional functionality for various cases. The three statements are defined by:\n",
    "\n",
    "break: Break out of the current closest enclosing loop.\n",
    "continue: Goes to the top of the closest enclosing loop.\n",
    "pass: Does nothing at all."
   ]
  },
  {
   "cell_type": "code",
   "execution_count": 10,
   "id": "b42ab1ef",
   "metadata": {},
   "outputs": [
    {
     "name": "stdout",
     "output_type": "stream",
     "text": [
      "end of my script\n"
     ]
    }
   ],
   "source": [
    "x = [1,2,3]\n",
    "\n",
    "for item in x:\n",
    "    pass # could use it as a placeholder to avoid syntax error\n",
    "\n",
    "print('end of my script')"
   ]
  },
  {
   "cell_type": "code",
   "execution_count": 12,
   "id": "77c161f7",
   "metadata": {},
   "outputs": [
    {
     "name": "stdout",
     "output_type": "stream",
     "text": [
      "S\n",
      "m\n",
      "m\n",
      "y\n"
     ]
    }
   ],
   "source": [
    "mystring = 'Sammy'\n",
    "\n",
    "for letter in mystring:\n",
    "    if letter == 'a': # does not count a, just says if this letter is a go ahead and continue\n",
    "        continue # if you change this to break, you will get s. Breaks and stops the loop if its a\n",
    "    print(letter)"
   ]
  },
  {
   "cell_type": "code",
   "execution_count": 15,
   "id": "c8e7096d",
   "metadata": {},
   "outputs": [
    {
     "name": "stdout",
     "output_type": "stream",
     "text": [
      "0\n",
      "1\n"
     ]
    }
   ],
   "source": [
    "x = 0\n",
    "\n",
    "while x < 5:\n",
    "    \n",
    "    if x == 2:\n",
    "        break #\n",
    "    print(x)\n",
    "    x += 1"
   ]
  },
  {
   "cell_type": "code",
   "execution_count": null,
   "id": "69df336c",
   "metadata": {},
   "outputs": [],
   "source": []
  }
 ],
 "metadata": {
  "kernelspec": {
   "display_name": "Python 3 (ipykernel)",
   "language": "python",
   "name": "python3"
  },
  "language_info": {
   "codemirror_mode": {
    "name": "ipython",
    "version": 3
   },
   "file_extension": ".py",
   "mimetype": "text/x-python",
   "name": "python",
   "nbconvert_exporter": "python",
   "pygments_lexer": "ipython3",
   "version": "3.9.12"
  }
 },
 "nbformat": 4,
 "nbformat_minor": 5
}
